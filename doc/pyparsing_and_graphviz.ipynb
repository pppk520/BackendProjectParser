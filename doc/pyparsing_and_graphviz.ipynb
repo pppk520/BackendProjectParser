{
 "cells": [
  {
   "cell_type": "markdown",
   "metadata": {},
   "source": [
    "# Install graphviz with anaconda\n",
    "\n",
    "```\n",
    "> conda install graphviz\n",
    "> conda install python-graphviz\n",
    "```\n"
   ]
  },
  {
   "cell_type": "markdown",
   "metadata": {},
   "source": [
    "# Regular Expression"
   ]
  },
  {
   "cell_type": "code",
   "execution_count": 1,
   "metadata": {},
   "outputs": [
    {
     "data": {
      "text/plain": [
       "['one<TAG>two</TAG>one']"
      ]
     },
     "execution_count": 1,
     "metadata": {},
     "output_type": "execute_result"
    }
   ],
   "source": [
    "import re\n",
    "\n",
    "s = \"<TAG>one<TAG>two</TAG>one</TAG>\"\n",
    "re.findall(r'>(.*)<', s)"
   ]
  },
  {
   "cell_type": "code",
   "execution_count": 2,
   "metadata": {},
   "outputs": [
    {
     "data": {
      "text/plain": [
       "['one', 'two', 'one']"
      ]
     },
     "execution_count": 2,
     "metadata": {},
     "output_type": "execute_result"
    }
   ],
   "source": [
    "s = \"<TAG>one<TAG>two</TAG>one</TAG>\"\n",
    "re.findall(r'>(.*?)<', s)"
   ]
  },
  {
   "cell_type": "code",
   "execution_count": 3,
   "metadata": {},
   "outputs": [
    {
     "data": {
      "text/plain": [
       "['127.0.0.1']"
      ]
     },
     "execution_count": 3,
     "metadata": {},
     "output_type": "execute_result"
    }
   ],
   "source": [
    "s = \"127.0.0.1\"\n",
    "re.findall(r'\\b\\d{1,3}\\.\\d{1,3}\\.\\d{1,3}\\.\\d{1,3}\\b', s)"
   ]
  },
  {
   "cell_type": "code",
   "execution_count": 4,
   "metadata": {},
   "outputs": [
    {
     "data": {
      "text/plain": [
       "[]"
      ]
     },
     "execution_count": 4,
     "metadata": {},
     "output_type": "execute_result"
    }
   ],
   "source": [
    "s = \"12700.0.0.1\"\n",
    "re.findall(r'\\b\\d{1,3}\\.\\d{1,3}\\.\\d{1,3}\\.\\d{1,3}\\b', s)"
   ]
  },
  {
   "cell_type": "markdown",
   "metadata": {},
   "source": [
    "## A little bit more complex"
   ]
  },
  {
   "cell_type": "code",
   "execution_count": 5,
   "metadata": {},
   "outputs": [
    {
     "data": {
      "text/plain": [
       "['\\nImpressionShare_Campaign ', 'PairAggCampaignAgg']"
      ]
     },
     "execution_count": 5,
     "metadata": {},
     "output_type": "execute_result"
    }
   ],
   "source": [
    "s = '''\n",
    "ImpressionShare_Campaign =\n",
    "    SELECT DateKey,\n",
    "           HourNum,\n",
    "           0L AS AboveCnt,\n",
    "           0L AS TopCnt\n",
    "FROM PairAggCampaignAgg;\n",
    "'''\n",
    "\n",
    "re_select = re.compile(r'(.*)=.*SELECT.*FROM (.*);', re.DOTALL | re.MULTILINE)\n",
    "\n",
    "match = re_select.match(s)\n",
    "list(match.groups())"
   ]
  },
  {
   "cell_type": "code",
   "execution_count": 6,
   "metadata": {},
   "outputs": [
    {
     "data": {
      "text/plain": [
       "['ImpressionShare_Campaign ', 'PairAggCampaignAgg']"
      ]
     },
     "execution_count": 6,
     "metadata": {},
     "output_type": "execute_result"
    }
   ],
   "source": [
    "re_select = re.compile(r'\\n(.*)=.*SELECT.*FROM (.*);', re.DOTALL | re.MULTILINE)\n",
    "\n",
    "match = re_select.match(s)\n",
    "list(match.groups())"
   ]
  },
  {
   "cell_type": "code",
   "execution_count": 7,
   "metadata": {},
   "outputs": [
    {
     "data": {
      "text/plain": [
       "['a ', 'Step1\\n    ', ' ImpressionShare\\n']"
      ]
     },
     "execution_count": 7,
     "metadata": {},
     "output_type": "execute_result"
    }
   ],
   "source": [
    "s = '''\n",
    "a = SELECT *\n",
    "    FROM Step1\n",
    "    UNION ALL\n",
    "    SELECT *\n",
    "    FROM ImpressionShare\n",
    "'''\n",
    "\n",
    "re_select = re.compile(r'\\n(.*?)=.*?SELECT.*?FROM (.*?)UNION (?:ALL)?.*?SELECT.*?FROM(.*)', re.DOTALL | re.MULTILINE)\n",
    "match = re_select.match(s)\n",
    "list(match.groups())"
   ]
  },
  {
   "cell_type": "markdown",
   "metadata": {},
   "source": [
    "### Well, regular expression is getting harder to maintain"
   ]
  },
  {
   "cell_type": "markdown",
   "metadata": {},
   "source": [
    "## Even More Complex Conditions"
   ]
  },
  {
   "cell_type": "code",
   "execution_count": 8,
   "metadata": {},
   "outputs": [],
   "source": [
    "s = '''\n",
    "            Merge =\n",
    "            SELECT DateKey,\n",
    "                   Domain,\n",
    "                   SUM(ImpressionCntInAuction) AS ImpressionCntInAuction,\n",
    "                   //SUM(CoImpression_AuctionLog) AS CoImpression_AuctionLog,    \n",
    "                   SUM(CoImpressionCnt) AS CoImpressionCnt,\n",
    "                   SUM(TopCnt) AS TopCnt\n",
    "            FROM\n",
    "            (\n",
    "            SELECT *\n",
    "            FROM Step1\n",
    "            UNION ALL\n",
    "            SELECT *\n",
    "            FROM ImpressionShare\n",
    "            )\n",
    "\n",
    "'''\n",
    "\n",
    "s = '''\n",
    "            SELECT L.DateKey,\n",
    "                   IF(L.PositionNum < R.PositionNum, 0, 1) AS AboveCnt,\n",
    "                   R.TopCnt\n",
    "            FROM(\n",
    "                MonetizationModules.MonetizationImpression(\n",
    "                    INPUT_BASE = @MonetizationCommonDataPath, \n",
    "                    START_DATETIME_UTC = @StartDateHourObj.AddHours(-2), \n",
    "                    END_DATETIME_UTC=@StartDateHourObj.AddHours(2)\n",
    "                )        \n",
    "            )\n",
    "        '''\n",
    "\n",
    "s = '''\n",
    "        AccountTacticData =\n",
    "            SELECT AccountId,\n",
    "                   OptTypeId,\n",
    "                   AccountId.ToString() + \"_\" + OptTypeId.ToString() AS TempOpportunityId,\n",
    "                   OptTacticMapping.OptAdInsightCategory\n",
    "            FROM AccountTacticData\n",
    "                 LEFT JOIN\n",
    "                     AccountInfo\n",
    "                 ON AccountTacticData.AccountId == AccountInfo.AccountId\n",
    "                 LEFT JOIN\n",
    "                     AccountLocationMapping\n",
    "                 ON AccountTacticData.AccountId == AccountLocationMapping.AccountId\n",
    "                 LEFT JOIN\n",
    "                     AccountVerticalMapping\n",
    "                 ON AccountTacticData.AccountId == AccountVerticalMapping.AccountId\n",
    "                 LEFT JOIN\n",
    "                     OptTacticMapping\n",
    "                 ON AccountTacticData.OptTypeId == OptTacticMapping.OptTypeId;\n",
    "        '''\n",
    "\n",
    "s = '''\n",
    "        DedupeList_BlockRules =\n",
    "            (SELECT CustomerId AS EntityId\n",
    "             FROM BlockRules_Customer\n",
    "             UNION DISTINCT\n",
    "             SELECT *\n",
    "             FROM BlockRules_Account\n",
    "            )\n",
    "            EXCEPT ALL\n",
    "            (SELECT EntityId\n",
    "             FROM DedupeList\n",
    "             WHERE EntityLevel == \"CID\"\n",
    "            )\n",
    "'''"
   ]
  },
  {
   "cell_type": "markdown",
   "metadata": {},
   "source": [
    "### In a nutshell, Regular Expression is not good for complex situation"
   ]
  },
  {
   "cell_type": "markdown",
   "metadata": {},
   "source": [
    "# PyParsing\n",
    "https://www.accelebrate.com/blog/pyparseltongue-parsing-text-with-pyparsing/"
   ]
  },
  {
   "cell_type": "code",
   "execution_count": 9,
   "metadata": {},
   "outputs": [],
   "source": [
    "from pyparsing import *  # not good and should be modified after code is stable"
   ]
  },
  {
   "cell_type": "code",
   "execution_count": 10,
   "metadata": {},
   "outputs": [
    {
     "data": {
      "text/plain": [
       "'ABCDEFGHIJKLMNOPQRSTUVWXYZabcdefghijklmnopqrstuvwxyz'"
      ]
     },
     "execution_count": 10,
     "metadata": {},
     "output_type": "execute_result"
    }
   ],
   "source": [
    "alphas"
   ]
  },
  {
   "cell_type": "code",
   "execution_count": 11,
   "metadata": {},
   "outputs": [
    {
     "name": "stdout",
     "output_type": "stream",
     "text": [
      "['Hello', ',', 'World', '!']\n",
      "['Hello', ',', 'Moon', '!']\n"
     ]
    }
   ],
   "source": [
    "greet = Word(alphas) + ',' + Word(alphas) + '!'\n",
    "\n",
    "print(greet.parseString('Hello, World!'))\n",
    "print(greet.parseString('Hello, Moon!'))"
   ]
  },
  {
   "cell_type": "code",
   "execution_count": 12,
   "metadata": {},
   "outputs": [
    {
     "data": {
      "text/plain": [
       "(['Hello', ',', 'World', '!'], {'salutation': ['Hello'], 'addressee': ['World']})"
      ]
     },
     "execution_count": 12,
     "metadata": {},
     "output_type": "execute_result"
    }
   ],
   "source": [
    "greet = Word(alphas)('salutation') + ',' + Word(alphas)('addressee') + '!'\n",
    "\n",
    "greet.parseString('Hello, World!')"
   ]
  },
  {
   "cell_type": "markdown",
   "metadata": {},
   "source": [
    "## Simple example"
   ]
  },
  {
   "cell_type": "code",
   "execution_count": 13,
   "metadata": {},
   "outputs": [
    {
     "name": "stdout",
     "output_type": "stream",
     "text": [
      "assign_ident = ImpressionShare_Campaign\n",
      "from_table = PairAggCampaignAgg\n"
     ]
    }
   ],
   "source": [
    "s = '''\n",
    "ImpressionShare_Campaign =\n",
    "    SELECT DateKey,\n",
    "           HourNum,\n",
    "           0L AS AboveCnt,\n",
    "           0L AS TopCnt\n",
    "FROM PairAggCampaignAgg;\n",
    "'''\n",
    "\n",
    "ident = Word(alphanums + '_')\n",
    "as_sth = 'AS' + ident\n",
    "one_column = ident + Optional(as_sth)\n",
    "columns = delimitedList(one_column, delim=',')\n",
    "\n",
    "select = 'SELECT' + columns + 'FROM' + ident('from_table')\n",
    "assign_select = ident('assign_ident') + '=' + select\n",
    "\n",
    "result = assign_select.parseString(s)\n",
    "\n",
    "print('assign_ident = {}'.format(result['assign_ident']))\n",
    "print('from_table = {}'.format(result['from_table']))"
   ]
  },
  {
   "cell_type": "markdown",
   "metadata": {},
   "source": [
    "## Example with Forward() placeholder"
   ]
  },
  {
   "cell_type": "code",
   "execution_count": 14,
   "metadata": {},
   "outputs": [
    {
     "name": "stdout",
     "output_type": "stream",
     "text": [
      "{\n",
      "    \"assign_ident\": \"Merge\",\n",
      "    \"from_table\": \"Step1\",\n",
      "    \"from_select\": {\n",
      "        \"from_table\": \"Step1\"\n",
      "    }\n",
      "}\n"
     ]
    }
   ],
   "source": [
    "from pyparsing import *\n",
    "import json\n",
    "\n",
    "s = '''\n",
    "Merge =\n",
    "            SELECT DateKey,\n",
    "                   Domain,\n",
    "                   0L AS AboveCnt,\n",
    "                   0L AS TopCnt\n",
    "            FROM\n",
    "            (\n",
    "            SELECT *\n",
    "            FROM Step1\n",
    "            )\n",
    "'''\n",
    "ident = Word(alphanums + '_*')\n",
    "as_sth = 'AS' + ident\n",
    "one_column = ident + Optional(as_sth)\n",
    "columns = delimitedList(one_column, delim=',')\n",
    "\n",
    "select = Forward()  # placeholder, means the content will be defined later\n",
    "from_select = '(' + select + ')'\n",
    "select <<= 'SELECT' + columns + 'FROM' + (ident('from_table') | from_select('from_select'))\n",
    "assign_select = ident('assign_ident') + '=' + select\n",
    "\n",
    "result = assign_select.parseString(s)\n",
    "\n",
    "print(json.dumps(result.asDict(), indent=4))\n"
   ]
  },
  {
   "cell_type": "markdown",
   "metadata": {},
   "source": [
    "# Graphviz"
   ]
  },
  {
   "cell_type": "code",
   "execution_count": 15,
   "metadata": {},
   "outputs": [
    {
     "data": {
      "image/svg+xml": [
       "<?xml version=\"1.0\" encoding=\"UTF-8\" standalone=\"no\"?>\r\n",
       "<!DOCTYPE svg PUBLIC \"-//W3C//DTD SVG 1.1//EN\"\r\n",
       " \"http://www.w3.org/Graphics/SVG/1.1/DTD/svg11.dtd\">\r\n",
       "<!-- Generated by graphviz version 2.38.0 (20140413.2041)\r\n",
       " -->\r\n",
       "<!-- Title: %3 Pages: 1 -->\r\n",
       "<svg width=\"134pt\" height=\"116pt\"\r\n",
       " viewBox=\"0.00 0.00 134.00 116.00\" xmlns=\"http://www.w3.org/2000/svg\" xmlns:xlink=\"http://www.w3.org/1999/xlink\">\r\n",
       "<g id=\"graph0\" class=\"graph\" transform=\"scale(1 1) rotate(0) translate(4 112)\">\r\n",
       "<title>%3</title>\r\n",
       "<polygon fill=\"white\" stroke=\"none\" points=\"-4,4 -4,-112 130,-112 130,4 -4,4\"/>\r\n",
       "<!-- A -->\r\n",
       "<g id=\"node1\" class=\"node\"><title>A</title>\r\n",
       "<ellipse fill=\"none\" stroke=\"black\" cx=\"27\" cy=\"-90\" rx=\"27\" ry=\"18\"/>\r\n",
       "<text text-anchor=\"middle\" x=\"27\" y=\"-86.3\" font-family=\"Times New Roman,serif\" font-size=\"14.00\">A</text>\r\n",
       "</g>\r\n",
       "<!-- B -->\r\n",
       "<g id=\"node2\" class=\"node\"><title>B</title>\r\n",
       "<ellipse fill=\"none\" stroke=\"black\" cx=\"63\" cy=\"-18\" rx=\"27\" ry=\"18\"/>\r\n",
       "<text text-anchor=\"middle\" x=\"63\" y=\"-14.3\" font-family=\"Times New Roman,serif\" font-size=\"14.00\">B</text>\r\n",
       "</g>\r\n",
       "<!-- A&#45;&gt;B -->\r\n",
       "<g id=\"edge1\" class=\"edge\"><title>A&#45;&gt;B</title>\r\n",
       "<path fill=\"none\" stroke=\"black\" d=\"M35.3496,-72.7646C39.7115,-64.2831 45.1469,-53.7144 50.0413,-44.1974\"/>\r\n",
       "<polygon fill=\"black\" stroke=\"black\" points=\"53.2346,-45.6409 54.6957,-35.1473 47.0096,-42.4395 53.2346,-45.6409\"/>\r\n",
       "</g>\r\n",
       "<!-- C -->\r\n",
       "<g id=\"node3\" class=\"node\"><title>C</title>\r\n",
       "<ellipse fill=\"none\" stroke=\"black\" cx=\"99\" cy=\"-90\" rx=\"27\" ry=\"18\"/>\r\n",
       "<text text-anchor=\"middle\" x=\"99\" y=\"-86.3\" font-family=\"Times New Roman,serif\" font-size=\"14.00\">C</text>\r\n",
       "</g>\r\n",
       "<!-- C&#45;&gt;B -->\r\n",
       "<g id=\"edge2\" class=\"edge\"><title>C&#45;&gt;B</title>\r\n",
       "<path fill=\"none\" stroke=\"black\" d=\"M90.6504,-72.7646C86.2885,-64.2831 80.8531,-53.7144 75.9587,-44.1974\"/>\r\n",
       "<polygon fill=\"black\" stroke=\"black\" points=\"78.9904,-42.4395 71.3043,-35.1473 72.7654,-45.6409 78.9904,-42.4395\"/>\r\n",
       "</g>\r\n",
       "</g>\r\n",
       "</svg>\r\n"
      ],
      "text/plain": [
       "<graphviz.dot.Digraph at 0x28d59725f60>"
      ]
     },
     "execution_count": 15,
     "metadata": {},
     "output_type": "execute_result"
    }
   ],
   "source": [
    "import graphviz as gv\n",
    "\n",
    "graph = gv.Digraph()\n",
    "\n",
    "graph.node('A')\n",
    "graph.node('B')\n",
    "graph.node('C')\n",
    "\n",
    "graph.edge('A', 'B')\n",
    "graph.edge('C', 'B')\n",
    "\n",
    "graph"
   ]
  },
  {
   "cell_type": "markdown",
   "metadata": {},
   "source": [
    "### Change Node Color"
   ]
  },
  {
   "cell_type": "code",
   "execution_count": 16,
   "metadata": {},
   "outputs": [
    {
     "data": {
      "image/svg+xml": [
       "<?xml version=\"1.0\" encoding=\"UTF-8\" standalone=\"no\"?>\r\n",
       "<!DOCTYPE svg PUBLIC \"-//W3C//DTD SVG 1.1//EN\"\r\n",
       " \"http://www.w3.org/Graphics/SVG/1.1/DTD/svg11.dtd\">\r\n",
       "<!-- Generated by graphviz version 2.38.0 (20140413.2041)\r\n",
       " -->\r\n",
       "<!-- Title: %3 Pages: 1 -->\r\n",
       "<svg width=\"134pt\" height=\"116pt\"\r\n",
       " viewBox=\"0.00 0.00 134.00 116.00\" xmlns=\"http://www.w3.org/2000/svg\" xmlns:xlink=\"http://www.w3.org/1999/xlink\">\r\n",
       "<g id=\"graph0\" class=\"graph\" transform=\"scale(1 1) rotate(0) translate(4 112)\">\r\n",
       "<title>%3</title>\r\n",
       "<polygon fill=\"white\" stroke=\"none\" points=\"-4,4 -4,-112 130,-112 130,4 -4,4\"/>\r\n",
       "<!-- A -->\r\n",
       "<g id=\"node1\" class=\"node\"><title>A</title>\r\n",
       "<ellipse fill=\"red\" stroke=\"black\" cx=\"27\" cy=\"-90\" rx=\"27\" ry=\"18\"/>\r\n",
       "<text text-anchor=\"middle\" x=\"27\" y=\"-86.3\" font-family=\"Times New Roman,serif\" font-size=\"14.00\">A</text>\r\n",
       "</g>\r\n",
       "<!-- B -->\r\n",
       "<g id=\"node2\" class=\"node\"><title>B</title>\r\n",
       "<ellipse fill=\"yellow\" stroke=\"black\" cx=\"63\" cy=\"-18\" rx=\"27\" ry=\"18\"/>\r\n",
       "<text text-anchor=\"middle\" x=\"63\" y=\"-14.3\" font-family=\"Times New Roman,serif\" font-size=\"14.00\">B</text>\r\n",
       "</g>\r\n",
       "<!-- A&#45;&gt;B -->\r\n",
       "<g id=\"edge1\" class=\"edge\"><title>A&#45;&gt;B</title>\r\n",
       "<path fill=\"none\" stroke=\"black\" d=\"M35.3496,-72.7646C39.7115,-64.2831 45.1469,-53.7144 50.0413,-44.1974\"/>\r\n",
       "<polygon fill=\"black\" stroke=\"black\" points=\"53.2346,-45.6409 54.6957,-35.1473 47.0096,-42.4395 53.2346,-45.6409\"/>\r\n",
       "</g>\r\n",
       "<!-- C -->\r\n",
       "<g id=\"node3\" class=\"node\"><title>C</title>\r\n",
       "<ellipse fill=\"none\" stroke=\"black\" cx=\"99\" cy=\"-90\" rx=\"27\" ry=\"18\"/>\r\n",
       "<text text-anchor=\"middle\" x=\"99\" y=\"-86.3\" font-family=\"Times New Roman,serif\" font-size=\"14.00\">C</text>\r\n",
       "</g>\r\n",
       "<!-- C&#45;&gt;B -->\r\n",
       "<g id=\"edge2\" class=\"edge\"><title>C&#45;&gt;B</title>\r\n",
       "<path fill=\"none\" stroke=\"black\" d=\"M90.6504,-72.7646C86.2885,-64.2831 80.8531,-53.7144 75.9587,-44.1974\"/>\r\n",
       "<polygon fill=\"black\" stroke=\"black\" points=\"78.9904,-42.4395 71.3043,-35.1473 72.7654,-45.6409 78.9904,-42.4395\"/>\r\n",
       "</g>\r\n",
       "</g>\r\n",
       "</svg>\r\n"
      ],
      "text/plain": [
       "<graphviz.dot.Digraph at 0x28d5971ed68>"
      ]
     },
     "execution_count": 16,
     "metadata": {},
     "output_type": "execute_result"
    }
   ],
   "source": [
    "import graphviz as gv\n",
    "\n",
    "graph = gv.Digraph()\n",
    "\n",
    "graph.node('A', fillcolor='red', style='filled')\n",
    "graph.node('B', fillcolor='yellow', style='filled')\n",
    "graph.node('C')\n",
    "\n",
    "graph.edge('A', 'B')\n",
    "graph.edge('C', 'B')\n",
    "\n",
    "graph"
   ]
  },
  {
   "cell_type": "markdown",
   "metadata": {},
   "source": [
    "### Change Label"
   ]
  },
  {
   "cell_type": "code",
   "execution_count": 17,
   "metadata": {},
   "outputs": [
    {
     "data": {
      "image/svg+xml": [
       "<?xml version=\"1.0\" encoding=\"UTF-8\" standalone=\"no\"?>\r\n",
       "<!DOCTYPE svg PUBLIC \"-//W3C//DTD SVG 1.1//EN\"\r\n",
       " \"http://www.w3.org/Graphics/SVG/1.1/DTD/svg11.dtd\">\r\n",
       "<!-- Generated by graphviz version 2.38.0 (20140413.2041)\r\n",
       " -->\r\n",
       "<!-- Title: %3 Pages: 1 -->\r\n",
       "<svg width=\"138pt\" height=\"116pt\"\r\n",
       " viewBox=\"0.00 0.00 138.25 116.00\" xmlns=\"http://www.w3.org/2000/svg\" xmlns:xlink=\"http://www.w3.org/1999/xlink\">\r\n",
       "<g id=\"graph0\" class=\"graph\" transform=\"scale(1 1) rotate(0) translate(4 112)\">\r\n",
       "<title>%3</title>\r\n",
       "<polygon fill=\"white\" stroke=\"none\" points=\"-4,4 -4,-112 134.247,-112 134.247,4 -4,4\"/>\r\n",
       "<!-- A -->\r\n",
       "<g id=\"node1\" class=\"node\"><title>A</title>\r\n",
       "<ellipse fill=\"none\" stroke=\"black\" cx=\"29.2474\" cy=\"-90\" rx=\"29.4969\" ry=\"18\"/>\r\n",
       "<text text-anchor=\"middle\" x=\"29.2474\" y=\"-86.3\" font-family=\"Times New Roman,serif\" font-size=\"14.00\">Alice</text>\r\n",
       "</g>\r\n",
       "<!-- B -->\r\n",
       "<g id=\"node2\" class=\"node\"><title>B</title>\r\n",
       "<ellipse fill=\"none\" stroke=\"black\" cx=\"66.2474\" cy=\"-18\" rx=\"27\" ry=\"18\"/>\r\n",
       "<text text-anchor=\"middle\" x=\"66.2474\" y=\"-14.3\" font-family=\"Times New Roman,serif\" font-size=\"14.00\">Bob</text>\r\n",
       "</g>\r\n",
       "<!-- A&#45;&gt;B -->\r\n",
       "<g id=\"edge1\" class=\"edge\"><title>A&#45;&gt;B</title>\r\n",
       "<path fill=\"none\" stroke=\"black\" d=\"M37.8289,-72.7646C42.312,-64.2831 47.8984,-53.7144 52.9288,-44.1974\"/>\r\n",
       "<polygon fill=\"black\" stroke=\"black\" points=\"56.1336,-45.6239 57.7124,-35.1473 49.9449,-42.3527 56.1336,-45.6239\"/>\r\n",
       "</g>\r\n",
       "<!-- C -->\r\n",
       "<g id=\"node3\" class=\"node\"><title>C</title>\r\n",
       "<ellipse fill=\"none\" stroke=\"black\" cx=\"103.247\" cy=\"-90\" rx=\"27\" ry=\"18\"/>\r\n",
       "<text text-anchor=\"middle\" x=\"103.247\" y=\"-86.3\" font-family=\"Times New Roman,serif\" font-size=\"14.00\">C</text>\r\n",
       "</g>\r\n",
       "<!-- C&#45;&gt;B -->\r\n",
       "<g id=\"edge2\" class=\"edge\"><title>C&#45;&gt;B</title>\r\n",
       "<path fill=\"none\" stroke=\"black\" d=\"M94.6659,-72.7646C90.1828,-64.2831 84.5964,-53.7144 79.566,-44.1974\"/>\r\n",
       "<polygon fill=\"black\" stroke=\"black\" points=\"82.5499,-42.3527 74.7824,-35.1473 76.3612,-45.6239 82.5499,-42.3527\"/>\r\n",
       "</g>\r\n",
       "</g>\r\n",
       "</svg>\r\n"
      ],
      "text/plain": [
       "<graphviz.dot.Digraph at 0x28d5971ecc0>"
      ]
     },
     "execution_count": 17,
     "metadata": {},
     "output_type": "execute_result"
    }
   ],
   "source": [
    "import graphviz as gv\n",
    "\n",
    "graph = gv.Digraph()\n",
    "\n",
    "# the first parameter is ID\n",
    "graph.node('A', label='Alice')\n",
    "graph.node('B', label='Bob')\n",
    "graph.node('C')\n",
    "\n",
    "graph.edge('A', 'B')\n",
    "graph.edge('C', 'B')\n",
    "\n",
    "graph"
   ]
  },
  {
   "cell_type": "code",
   "execution_count": null,
   "metadata": {},
   "outputs": [],
   "source": []
  }
 ],
 "metadata": {
  "kernelspec": {
   "display_name": "Python 3",
   "language": "python",
   "name": "python3"
  },
  "language_info": {
   "codemirror_mode": {
    "name": "ipython",
    "version": 3
   },
   "file_extension": ".py",
   "mimetype": "text/x-python",
   "name": "python",
   "nbconvert_exporter": "python",
   "pygments_lexer": "ipython3",
   "version": "3.6.4"
  }
 },
 "nbformat": 4,
 "nbformat_minor": 2
}
